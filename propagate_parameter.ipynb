{
 "cells": [
  {
   "cell_type": "code",
   "execution_count": 1,
   "metadata": {},
   "outputs": [],
   "source": [
    "import os\n",
    "import sys\n",
    "import requests\n",
    "import time\n",
    "from ooi_data.postgres.model import * \n",
    "from database import create_engine_from_url, create_scoped_session "
   ]
  },
  {
   "cell_type": "code",
   "execution_count": 2,
   "metadata": {},
   "outputs": [],
   "source": [
    "api_user = ''\n",
    "api_key = ''"
   ]
  },
  {
   "cell_type": "code",
   "execution_count": 3,
   "metadata": {},
   "outputs": [],
   "source": [
    "url='https://ooinet.oceanobservatories.org/api/m2m/12576/sensor/inv/toc'"
   ]
  },
  {
   "cell_type": "code",
   "execution_count": 4,
   "metadata": {},
   "outputs": [],
   "source": [
    "engine = create_engine_from_url(None)\n",
    "session = create_scoped_session(engine)\n",
    "\n",
    "MetadataBase.query = session.query_property()"
   ]
  },
  {
   "cell_type": "code",
   "execution_count": 5,
   "metadata": {},
   "outputs": [],
   "source": [
    "def cached_toc(url, api_user, api_key, cache_file='.toc'):\n",
    "    \"\"\"\n",
    "    Return the cached TOC if it exists and is less than 1 day old, otherwise fetch and cache the current TOC\n",
    "    :param url:\n",
    "    :param cache_file:\n",
    "    :return:\n",
    "    \"\"\"\n",
    "    now = time.time()\n",
    "    if not os.path.exists(cache_file) or now - os.stat(cache_file).st_mtime > 86400:\n",
    "        toc = requests.get(url, auth=(api_user, api_key))\n",
    "        toc = toc.json()\n",
    "        json.dump(toc, open(cache_file, 'w'))\n",
    "    else:\n",
    "        toc = json.load(open(cache_file))\n",
    "    return toc"
   ]
  },
  {
   "cell_type": "code",
   "execution_count": 6,
   "metadata": {},
   "outputs": [],
   "source": [
    "def build_dpi_map():\n",
    "    \"\"\"\n",
    "    Build a map from a specific data product identifier to a set of parameters which fulfill it\n",
    "    :return:\n",
    "    \"\"\"\n",
    "    dpi_map = {}\n",
    "    for p in Parameter.query:\n",
    "        if p.data_product_identifier:\n",
    "            dpi_map.setdefault(p.data_product_identifier, set()).add(p)\n",
    "    return dpi_map"
   ]
  },
  {
   "cell_type": "code",
   "execution_count": 7,
   "metadata": {},
   "outputs": [],
   "source": [
    "def build_affects_map():\n",
    "    \"\"\"\n",
    "    Build a map from parameter to the set of parameters *directly* affected by it\n",
    "    :return:\n",
    "    \"\"\"\n",
    "    dpi_map = build_dpi_map()\n",
    "    affects_map = {}\n",
    "    for p in Parameter.query:\n",
    "        if p.is_function:\n",
    "            pmap = p.parameter_function_map\n",
    "            for key in pmap:\n",
    "                values = pmap[key]\n",
    "                if not isinstance(values, list):\n",
    "                    values = [values]\n",
    "                for value in values:\n",
    "                    if isinstance(value, Number): continue\n",
    "                    if value.startswith('CC'): continue\n",
    "                    if value.startswith('dpi_'):\n",
    "                        value = value.split('dpi_')[-1]\n",
    "                        for param in dpi_map.get(value, []):\n",
    "                            affects_map.setdefault(param, set()).add(p)\n",
    "\n",
    "                    if 'PD' in value:\n",
    "                        pdid = int(value.split('PD')[-1])\n",
    "                        param = Parameter.query.get(pdid)\n",
    "                        affects_map.setdefault(param, set()).add(p)\n",
    "    return affects_map"
   ]
  },
  {
   "cell_type": "code",
   "execution_count": 8,
   "metadata": {},
   "outputs": [],
   "source": [
    "def parameter_affects(pdid, affects_map):\n",
    "    \"\"\"\n",
    "    Given a specific parameter and a map of parameter to the set of its directly affected parameters,\n",
    "    traverse the given graph to determine all possible affected parameters for the given parameter.\n",
    "    Return the map of stream_name to affected parameters.\n",
    "    :param pdid:\n",
    "    :param affects_map:\n",
    "    :return:\n",
    "    \"\"\"\n",
    "    p = Parameter.query.get(pdid)\n",
    "\n",
    "    affected = {p}\n",
    "    to_visit = affects_map[p]\n",
    "\n",
    "    while to_visit:\n",
    "        p = to_visit.pop()\n",
    "        affected.add(p)\n",
    "        for param in affects_map.get(p, []):\n",
    "            if param in affected:\n",
    "                continue\n",
    "            affected.add(param)\n",
    "            to_visit.add(param)\n",
    "\n",
    "    streams = {}\n",
    "    for p in affected:\n",
    "        for stream in p.streams:\n",
    "            streams.setdefault(stream.name, set()).add(p)\n",
    "\n",
    "    return streams"
   ]
  },
  {
   "cell_type": "code",
   "execution_count": 9,
   "metadata": {},
   "outputs": [],
   "source": [
    "def find_affected(affected_streams, subsite, node, toc):\n",
    "    \"\"\"\n",
    "    Given a map of affected streams for a parameter, traverse the TOC and identify all instrument streams\n",
    "    with the same subsite and node which are affected. For each affected stream, print the affected parameters.\n",
    "    :param affected_streams:\n",
    "    :param subsite:\n",
    "    :param node:\n",
    "    :param toc:\n",
    "    :return:\n",
    "    \"\"\"\n",
    "    # TODO handle instruments at the same depth but with a different \"node\"\n",
    "    for each in toc['instruments']:\n",
    "        if each['platform_code'] == subsite and each['mooring_code'] == node:\n",
    "            for stream in each['streams']:\n",
    "                name = stream['stream']\n",
    "                for parameter in affected_streams.get(name, []):\n",
    "                    print('{refdes} {stream:<30} {parameter.id:<4} {parameter.name}'.format(\n",
    "                        refdes=each['reference_designator'],\n",
    "                        stream=stream['stream'],\n",
    "                        parameter=parameter))"
   ]
  },
  {
   "cell_type": "code",
   "execution_count": 10,
   "metadata": {},
   "outputs": [
    {
     "name": "stdout",
     "output_type": "stream",
     "text": [
      "RS03AXPS-SF03A-2A-CTDPFA302 ctdpf_sbe43_sample             5    density\n",
      "RS03AXPS-SF03A-2A-CTDPFA302 ctdpf_sbe43_sample             3777 corrected_dissolved_oxygen\n",
      "RS03AXPS-SF03A-2A-CTDPFA302 ctdpf_sbe43_sample             13   practical_salinity\n",
      "RS03AXPS-SF03A-2A-CTDPFA302 ctdpf_sbe43_sample             910  seawater_conductivity\n",
      "RS03AXPS-SF03A-2D-PHSENA301 phsen_data_record              939  ph_seawater\n",
      "RS03AXPS-SF03A-3A-FLORTD301 flort_d_data_record            25   optical_backscatter\n",
      "RS03AXPS-SF03A-3A-FLORTD301 flort_d_data_record            21   seawater_scattering_coefficient\n",
      "RS03AXPS-SF03A-3B-OPTAAD301 optaa_sample                   19   beam_attenuation\n",
      "RS03AXPS-SF03A-3B-OPTAAD301 optaa_sample                   20   optical_absorption\n",
      "RS03AXPS-SF03A-4A-NUTNRA301 nutnr_a_sample                 18   salinity_corrected_nitrate\n"
     ]
    }
   ],
   "source": [
    "toc = cached_toc(url, api_user, api_key)\n",
    "affects_map = build_affects_map()\n",
    "affected_streams = parameter_affects(910, affects_map)\n",
    "find_affected(affected_streams, 'RS03AXPS','SF03A', toc)"
   ]
  },
  {
   "cell_type": "code",
   "execution_count": null,
   "metadata": {},
   "outputs": [],
   "source": []
  }
 ],
 "metadata": {
  "kernelspec": {
   "display_name": "ooi",
   "language": "python",
   "name": "ooi"
  },
  "language_info": {
   "codemirror_mode": {
    "name": "ipython",
    "version": 3
   },
   "file_extension": ".py",
   "mimetype": "text/x-python",
   "name": "python",
   "nbconvert_exporter": "python",
   "pygments_lexer": "ipython3",
   "version": "3.6.5"
  }
 },
 "nbformat": 4,
 "nbformat_minor": 2
}
